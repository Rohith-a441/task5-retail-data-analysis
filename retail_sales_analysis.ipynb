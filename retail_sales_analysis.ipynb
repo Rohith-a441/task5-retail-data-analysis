# 📊 Task 5: Retail Sales Data Analysis using Real Columns
import pandas as pd
import matplotlib.pyplot as plt

# Load the CSV
url = "https://raw.githubusercontent.com/LegendSeyi/Retail-Data-Analysis/main/retail_sales_dataset.csv"
data = pd.read_csv(url)
data.columns = data.columns.str.strip()  # Clean any hidden spaces

# Display first few rows
print("🔹 Preview of the dataset:")
display(data.head())

# Show cleaned column names
print("\n✅ Column names in the dataset:")
for col in data.columns:
    print(f"- {col}")

# Convert 'Date' to datetime
data['Date'] = pd.to_datetime(data['Date'])

# Extract Month from Date
data['Month'] = data['Date'].dt.month

# 📈 1. Monthly Total Sales
monthly_sales = data.groupby('Month')['Total Amount'].sum()
print("\n📆 Monthly Sales:")
print(monthly_sales)

# 📊 2. Sales by Product Category
category_sales = data.groupby('Product Category')['Total Amount'].sum().sort_values(ascending=False)
print("\n📦 Sales by Product Category:")
print(category_sales)

# 👥 3. Sales by Gender
gender_sales = data.groupby('Gender')['Total Amount'].sum()
print("\n🚻 Gender-wise Sales:")
print(gender_sales)

# 🔶 Plot 1: Monthly Sales
plt.figure(figsize=(10,5))
monthly_sales.plot(kind='bar', color='skyblue')
plt.title('📅 Monthly Sales')
plt.xlabel('Month')
plt.ylabel('Total Sales ($)')
plt.grid(axis='y')
plt.tight_layout()
plt.show()

# 🔷 Plot 2: Product Category Sales
plt.figure(figsize=(10,5))
category_sales.plot(kind='bar', color='lightgreen')
plt.title('📦 Sales by Product Category')
plt.xlabel('Product Category')
plt.ylabel('Total Sales ($)')
plt.xticks(rotation=45)
plt.grid(axis='y')
plt.tight_layout()
plt.show()

# 🔸 Plot 3: Gender-wise Sales
plt.figure(figsize=(6,6))
gender_sales.plot(kind='pie', autopct='%1.1f%%', startangle=140)
plt.title('🚻 Gender-wise Sales Share')
plt.ylabel('')
plt.tight_layout()
plt.show()
